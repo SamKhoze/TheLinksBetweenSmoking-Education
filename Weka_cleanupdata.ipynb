{
  "nbformat": 4,
  "nbformat_minor": 0,
  "metadata": {
    "colab": {
      "name": "Copy of Weka-cleanup.ipynb",
      "provenance": []
    },
    "kernelspec": {
      "name": "python3",
      "display_name": "Python 3"
    },
    "language_info": {
      "name": "python"
    }
  },
  "cells": [
    {
      "cell_type": "code",
      "metadata": {
        "colab": {
          "base_uri": "https://localhost:8080/"
        },
        "id": "aGg9Zf1aJ_Zf",
        "outputId": "de32b760-71d2-4f5e-b190-7a0a206e9059"
      },
      "source": [
        "import pandas as pd\n",
        "df=pd.read_csv(\"/content/data.csv\")"
      ],
      "execution_count": null,
      "outputs": [
        {
          "output_type": "stream",
          "name": "stderr",
          "text": [
            "/usr/local/lib/python3.7/dist-packages/IPython/core/interactiveshell.py:2718: DtypeWarning: Columns (183,378) have mixed types.Specify dtype option on import or set low_memory=False.\n",
            "  interactivity=interactivity, compiler=compiler, result=result)\n"
          ]
        }
      ]
    },
    {
      "cell_type": "code",
      "metadata": {
        "colab": {
          "base_uri": "https://localhost:8080/",
          "height": 203
        },
        "id": "JwAMNV4FW-lm",
        "outputId": "e6846d18-e960-4863-d0a7-52f272fdca79"
      },
      "source": [
        "df.head()"
      ],
      "execution_count": null,
      "outputs": [
        {
          "output_type": "execute_result",
          "data": {
            "text/html": [
              "<div>\n",
              "<style scoped>\n",
              "    .dataframe tbody tr th:only-of-type {\n",
              "        vertical-align: middle;\n",
              "    }\n",
              "\n",
              "    .dataframe tbody tr th {\n",
              "        vertical-align: top;\n",
              "    }\n",
              "\n",
              "    .dataframe thead th {\n",
              "        text-align: right;\n",
              "    }\n",
              "</style>\n",
              "<table border=\"1\" class=\"dataframe\">\n",
              "  <thead>\n",
              "    <tr style=\"text-align: right;\">\n",
              "      <th></th>\n",
              "      <th>CHECKUP1</th>\n",
              "      <th>_INCOMG</th>\n",
              "      <th>_EDUCAG</th>\n",
              "      <th>_SMOKER3</th>\n",
              "    </tr>\n",
              "  </thead>\n",
              "  <tbody>\n",
              "    <tr>\n",
              "      <th>0</th>\n",
              "      <td>Within past 2 years (1 year but less than 2 ye...</td>\n",
              "      <td>$50,000 or more</td>\n",
              "      <td>Graduated from College or Technical School</td>\n",
              "      <td>Never smoked</td>\n",
              "    </tr>\n",
              "    <tr>\n",
              "      <th>1</th>\n",
              "      <td>Within past year (anytime less than 12 months ...</td>\n",
              "      <td>Don't know/Not sure/Missing</td>\n",
              "      <td>Attended College or Technical School</td>\n",
              "      <td>Never smoked</td>\n",
              "    </tr>\n",
              "    <tr>\n",
              "      <th>2</th>\n",
              "      <td>Within past year (anytime less than 12 months ...</td>\n",
              "      <td>Don't know/Not sure/Missing</td>\n",
              "      <td>Graduated from College or Technical School</td>\n",
              "      <td>Never smoked</td>\n",
              "    </tr>\n",
              "    <tr>\n",
              "      <th>3</th>\n",
              "      <td>Within past year (anytime less than 12 months ...</td>\n",
              "      <td>Don't know/Not sure/Missing</td>\n",
              "      <td>Graduated High School</td>\n",
              "      <td>Never smoked</td>\n",
              "    </tr>\n",
              "    <tr>\n",
              "      <th>4</th>\n",
              "      <td>Within past year (anytime less than 12 months ...</td>\n",
              "      <td>$35,000 to less than $50,000</td>\n",
              "      <td>Graduated from College or Technical School</td>\n",
              "      <td>Never smoked</td>\n",
              "    </tr>\n",
              "  </tbody>\n",
              "</table>\n",
              "</div>"
            ],
            "text/plain": [
              "                                            CHECKUP1  ...      _SMOKER3\n",
              "0  Within past 2 years (1 year but less than 2 ye...  ...  Never smoked\n",
              "1  Within past year (anytime less than 12 months ...  ...  Never smoked\n",
              "2  Within past year (anytime less than 12 months ...  ...  Never smoked\n",
              "3  Within past year (anytime less than 12 months ...  ...  Never smoked\n",
              "4  Within past year (anytime less than 12 months ...  ...  Never smoked\n",
              "\n",
              "[5 rows x 4 columns]"
            ]
          },
          "metadata": {},
          "execution_count": 21
        }
      ]
    },
    {
      "cell_type": "markdown",
      "metadata": {
        "id": "IpDg4Q5S1RkM"
      },
      "source": [
        "#### Getting all the unique values of checkup column\n"
      ]
    },
    {
      "cell_type": "code",
      "metadata": {
        "colab": {
          "base_uri": "https://localhost:8080/"
        },
        "id": "UkMjrfIOY9M0",
        "outputId": "b5fd3b11-4ba9-4b8e-e41b-9166ed01f60f"
      },
      "source": [
        "df.CHECKUP1.unique()"
      ],
      "execution_count": null,
      "outputs": [
        {
          "output_type": "execute_result",
          "data": {
            "text/plain": [
              "array(['Within past 2 years (1 year but less than 2 years ago)',\n",
              "       'Within past year (anytime less than 12 months ago)',\n",
              "       '5 or more years ago',\n",
              "       'Within past 5 years (2 years but less than 5 years ago)',\n",
              "       \"Don't know/Not sure\", 'Never', 'Refused'], dtype=object)"
            ]
          },
          "metadata": {},
          "execution_count": 34
        }
      ]
    },
    {
      "cell_type": "markdown",
      "metadata": {
        "id": "jGUfECZX1hac"
      },
      "source": [
        "#### Removing all the values which have values Don't know/Not sure/Missing for Income column"
      ]
    },
    {
      "cell_type": "code",
      "metadata": {
        "id": "55P6JqgpXl00"
      },
      "source": [
        "df_filtered = df[df['_INCOMG'] !=  \"Don't know/Not sure/Missing\"]"
      ],
      "execution_count": null,
      "outputs": []
    },
    {
      "cell_type": "markdown",
      "metadata": {
        "id": "HPTUU7yL2AnG"
      },
      "source": [
        "#### Removing all the rows which have values Don't know/Refused/Missing for Smoker Column"
      ]
    },
    {
      "cell_type": "code",
      "metadata": {
        "id": "qucOWtWcYEki"
      },
      "source": [
        "df_filtered = df_filtered[df_filtered['_SMOKER3'] !=  \"Don't know/Refused/Missing\"]"
      ],
      "execution_count": null,
      "outputs": []
    },
    {
      "cell_type": "markdown",
      "metadata": {
        "id": "4LlG2KGV2VUP"
      },
      "source": [
        "#### Removing all the values which have values Don't know/Not sure/Missing for Education Column"
      ]
    },
    {
      "cell_type": "code",
      "metadata": {
        "colab": {
          "base_uri": "https://localhost:8080/"
        },
        "id": "0uylsvlbZHND",
        "outputId": "18ca94a4-cf28-474d-c27a-a5fab1a33cbd"
      },
      "source": [
        "df_filtered = df_filtered[df_filtered['_EDUCAG'] !=  \"Don't know/Not sure/Missing\"]\n",
        "df_filtered.shape"
      ],
      "execution_count": null,
      "outputs": [
        {
          "output_type": "execute_result",
          "data": {
            "text/plain": [
              "(9961, 4)"
            ]
          },
          "metadata": {},
          "execution_count": 100
        }
      ]
    },
    {
      "cell_type": "markdown",
      "metadata": {
        "id": "wC1_Ewfa4mlS"
      },
      "source": [
        "#### Removing all the values which have values Don't know/Not sure/Refused for Checkup Column"
      ]
    },
    {
      "cell_type": "code",
      "metadata": {
        "colab": {
          "base_uri": "https://localhost:8080/"
        },
        "id": "dfJU3GPEZ1YP",
        "outputId": "68a7cfd1-168f-438c-c1f8-c49ffa75c96f"
      },
      "source": [
        "df_filtered = df_filtered[df_filtered['CHECKUP1'] !=  \"Don't know/Not sure\"  ]\n",
        "df_filtered.shape"
      ],
      "execution_count": null,
      "outputs": [
        {
          "output_type": "execute_result",
          "data": {
            "text/plain": [
              "(9931, 4)"
            ]
          },
          "metadata": {},
          "execution_count": 101
        }
      ]
    },
    {
      "cell_type": "code",
      "metadata": {
        "colab": {
          "base_uri": "https://localhost:8080/"
        },
        "id": "Z1iaERoXaOUw",
        "outputId": "e6db7aa0-e6cd-489e-875c-10efe88c99ea"
      },
      "source": [
        "df_filtered = df_filtered[df_filtered['CHECKUP1'] !=  \"Refused\"  ]\n",
        "df_filtered.shape"
      ],
      "execution_count": null,
      "outputs": [
        {
          "output_type": "execute_result",
          "data": {
            "text/plain": [
              "(9897, 4)"
            ]
          },
          "metadata": {},
          "execution_count": 105
        }
      ]
    },
    {
      "cell_type": "code",
      "metadata": {
        "colab": {
          "base_uri": "https://localhost:8080/"
        },
        "id": "6MDgA8Pnaf0z",
        "outputId": "e15bb3f4-32ab-4183-e4b8-a981c39fbd34"
      },
      "source": [
        "df_filtered.CHECKUP1.unique()"
      ],
      "execution_count": null,
      "outputs": [
        {
          "output_type": "execute_result",
          "data": {
            "text/plain": [
              "array(['Within past 2 years (1 year but less than 2 years ago)',\n",
              "       'Within past year (anytime less than 12 months ago)',\n",
              "       '5 or more years ago',\n",
              "       'Within past 5 years (2 years but less than 5 years ago)', 'Never'],\n",
              "      dtype=object)"
            ]
          },
          "metadata": {},
          "execution_count": 106
        }
      ]
    },
    {
      "cell_type": "markdown",
      "metadata": {
        "id": "CRjFMphY2mJy"
      },
      "source": [
        "#### Making a copy of dataset"
      ]
    },
    {
      "cell_type": "code",
      "metadata": {
        "id": "gSbEEoaOaoD0"
      },
      "source": [
        "df_test=df_filtered"
      ],
      "execution_count": null,
      "outputs": []
    },
    {
      "cell_type": "markdown",
      "metadata": {
        "id": "U5UuYEAE2t9H"
      },
      "source": [
        "#### For checkup column dividing values into Recent and Not Recent for easier processing."
      ]
    },
    {
      "cell_type": "code",
      "metadata": {
        "id": "VNT7lRv6bdWQ"
      },
      "source": [
        "df_test['CHECKUP1']= df_test['CHECKUP1'].replace(['Within past 2 years (1 year but less than 2 years ago)',\n",
        "       'Within past year (anytime less than 12 months ago)',\n",
        "       '5 or more years ago',\n",
        "       'Within past 5 years (2 years but less than 5 years ago)', 'Never'],['Not Recent','Recent','Not Recent','Not Recent','Not Recent'])"
      ],
      "execution_count": null,
      "outputs": []
    },
    {
      "cell_type": "code",
      "metadata": {
        "colab": {
          "base_uri": "https://localhost:8080/"
        },
        "id": "IqlCwBofesWX",
        "outputId": "6ba4c895-b2e7-4305-b7e1-20482aea2e53"
      },
      "source": [
        "df_test.CHECKUP1.unique()"
      ],
      "execution_count": null,
      "outputs": [
        {
          "output_type": "execute_result",
          "data": {
            "text/plain": [
              "array(['Not Recent', 'Recent'], dtype=object)"
            ]
          },
          "metadata": {},
          "execution_count": 109
        }
      ]
    },
    {
      "cell_type": "code",
      "metadata": {
        "colab": {
          "base_uri": "https://localhost:8080/",
          "height": 203
        },
        "id": "1VcltZzkjRKZ",
        "outputId": "25663d49-250e-479c-b9b8-4828cbf0d926"
      },
      "source": [
        "df_filtered.head()"
      ],
      "execution_count": null,
      "outputs": [
        {
          "output_type": "execute_result",
          "data": {
            "text/html": [
              "<div>\n",
              "<style scoped>\n",
              "    .dataframe tbody tr th:only-of-type {\n",
              "        vertical-align: middle;\n",
              "    }\n",
              "\n",
              "    .dataframe tbody tr th {\n",
              "        vertical-align: top;\n",
              "    }\n",
              "\n",
              "    .dataframe thead th {\n",
              "        text-align: right;\n",
              "    }\n",
              "</style>\n",
              "<table border=\"1\" class=\"dataframe\">\n",
              "  <thead>\n",
              "    <tr style=\"text-align: right;\">\n",
              "      <th></th>\n",
              "      <th>CHECKUP1</th>\n",
              "      <th>_INCOMG</th>\n",
              "      <th>_EDUCAG</th>\n",
              "      <th>_SMOKER3</th>\n",
              "    </tr>\n",
              "  </thead>\n",
              "  <tbody>\n",
              "    <tr>\n",
              "      <th>0</th>\n",
              "      <td>Not Recent</td>\n",
              "      <td>$50,000 or more</td>\n",
              "      <td>Graduated from College or Technical School</td>\n",
              "      <td>Never smoked</td>\n",
              "    </tr>\n",
              "    <tr>\n",
              "      <th>4</th>\n",
              "      <td>Recent</td>\n",
              "      <td>$35,000 to less than $50,000</td>\n",
              "      <td>Graduated from College or Technical School</td>\n",
              "      <td>Never smoked</td>\n",
              "    </tr>\n",
              "    <tr>\n",
              "      <th>5</th>\n",
              "      <td>Recent</td>\n",
              "      <td>$50,000 or more</td>\n",
              "      <td>Graduated from College or Technical School</td>\n",
              "      <td>Current smoker - now smokes some days</td>\n",
              "    </tr>\n",
              "    <tr>\n",
              "      <th>6</th>\n",
              "      <td>Not Recent</td>\n",
              "      <td>$50,000 or more</td>\n",
              "      <td>Graduated from College or Technical School</td>\n",
              "      <td>Never smoked</td>\n",
              "    </tr>\n",
              "    <tr>\n",
              "      <th>7</th>\n",
              "      <td>Recent</td>\n",
              "      <td>$50,000 or more</td>\n",
              "      <td>Attended College or Technical School</td>\n",
              "      <td>Current smoker - now smokes some days</td>\n",
              "    </tr>\n",
              "  </tbody>\n",
              "</table>\n",
              "</div>"
            ],
            "text/plain": [
              "     CHECKUP1  ...                               _SMOKER3\n",
              "0  Not Recent  ...                           Never smoked\n",
              "4      Recent  ...                           Never smoked\n",
              "5      Recent  ...  Current smoker - now smokes some days\n",
              "6  Not Recent  ...                           Never smoked\n",
              "7      Recent  ...  Current smoker - now smokes some days\n",
              "\n",
              "[5 rows x 4 columns]"
            ]
          },
          "metadata": {},
          "execution_count": 110
        }
      ]
    },
    {
      "cell_type": "code",
      "metadata": {
        "colab": {
          "base_uri": "https://localhost:8080/"
        },
        "id": "uiyys0yhez8y",
        "outputId": "b5d550f4-dee5-4e12-f257-18a4a343e538"
      },
      "source": [
        "df_test._SMOKER3.unique()"
      ],
      "execution_count": null,
      "outputs": [
        {
          "output_type": "execute_result",
          "data": {
            "text/plain": [
              "array(['Never smoked', 'Current smoker - now smokes some days',\n",
              "       'Former smoker', 'Current smoker - now smokes every day'],\n",
              "      dtype=object)"
            ]
          },
          "metadata": {},
          "execution_count": 111
        }
      ]
    },
    {
      "cell_type": "markdown",
      "metadata": {
        "id": "gsQZCGXr2_CO"
      },
      "source": [
        "#### Convert smoker column values to 0 and 1 where 0 means doesn't smoke and 1 means they smoke so that machine learning algorthim can process it easily"
      ]
    },
    {
      "cell_type": "code",
      "metadata": {
        "id": "3u3h1x3CfUIw"
      },
      "source": [
        "df_test['_SMOKER3']= df_test['_SMOKER3'].replace(['Never smoked', 'Current smoker - now smokes some days',\n",
        "       'Former smoker', 'Current smoker - now smokes every day'],['0','1','0','1'])"
      ],
      "execution_count": null,
      "outputs": []
    },
    {
      "cell_type": "code",
      "metadata": {
        "colab": {
          "base_uri": "https://localhost:8080/"
        },
        "id": "2_n5H2A-fnzM",
        "outputId": "59b603d5-eeea-4eab-c402-ea12b7e2b0a7"
      },
      "source": [
        "df_test._SMOKER3.unique()"
      ],
      "execution_count": null,
      "outputs": [
        {
          "output_type": "execute_result",
          "data": {
            "text/plain": [
              "array(['0', '1'], dtype=object)"
            ]
          },
          "metadata": {},
          "execution_count": 113
        }
      ]
    },
    {
      "cell_type": "markdown",
      "metadata": {
        "id": "iT5ZUQNX3Vqy"
      },
      "source": [
        "#### Taking final look at the datset we have preprocessed"
      ]
    },
    {
      "cell_type": "code",
      "metadata": {
        "colab": {
          "base_uri": "https://localhost:8080/",
          "height": 203
        },
        "id": "p9qwcJUlf5Ae",
        "outputId": "0b53a041-8f7d-47b4-a387-d64149030da5"
      },
      "source": [
        "df_test.head()"
      ],
      "execution_count": null,
      "outputs": [
        {
          "output_type": "execute_result",
          "data": {
            "text/html": [
              "<div>\n",
              "<style scoped>\n",
              "    .dataframe tbody tr th:only-of-type {\n",
              "        vertical-align: middle;\n",
              "    }\n",
              "\n",
              "    .dataframe tbody tr th {\n",
              "        vertical-align: top;\n",
              "    }\n",
              "\n",
              "    .dataframe thead th {\n",
              "        text-align: right;\n",
              "    }\n",
              "</style>\n",
              "<table border=\"1\" class=\"dataframe\">\n",
              "  <thead>\n",
              "    <tr style=\"text-align: right;\">\n",
              "      <th></th>\n",
              "      <th>CHECKUP1</th>\n",
              "      <th>_INCOMG</th>\n",
              "      <th>_EDUCAG</th>\n",
              "      <th>_SMOKER3</th>\n",
              "    </tr>\n",
              "  </thead>\n",
              "  <tbody>\n",
              "    <tr>\n",
              "      <th>0</th>\n",
              "      <td>Not Recent</td>\n",
              "      <td>$50,000 or more</td>\n",
              "      <td>Graduated from College or Technical School</td>\n",
              "      <td>0</td>\n",
              "    </tr>\n",
              "    <tr>\n",
              "      <th>4</th>\n",
              "      <td>Recent</td>\n",
              "      <td>$35,000 to less than $50,000</td>\n",
              "      <td>Graduated from College or Technical School</td>\n",
              "      <td>0</td>\n",
              "    </tr>\n",
              "    <tr>\n",
              "      <th>5</th>\n",
              "      <td>Recent</td>\n",
              "      <td>$50,000 or more</td>\n",
              "      <td>Graduated from College or Technical School</td>\n",
              "      <td>1</td>\n",
              "    </tr>\n",
              "    <tr>\n",
              "      <th>6</th>\n",
              "      <td>Not Recent</td>\n",
              "      <td>$50,000 or more</td>\n",
              "      <td>Graduated from College or Technical School</td>\n",
              "      <td>0</td>\n",
              "    </tr>\n",
              "    <tr>\n",
              "      <th>7</th>\n",
              "      <td>Recent</td>\n",
              "      <td>$50,000 or more</td>\n",
              "      <td>Attended College or Technical School</td>\n",
              "      <td>1</td>\n",
              "    </tr>\n",
              "  </tbody>\n",
              "</table>\n",
              "</div>"
            ],
            "text/plain": [
              "     CHECKUP1  ... _SMOKER3\n",
              "0  Not Recent  ...        0\n",
              "4      Recent  ...        0\n",
              "5      Recent  ...        1\n",
              "6  Not Recent  ...        0\n",
              "7      Recent  ...        1\n",
              "\n",
              "[5 rows x 4 columns]"
            ]
          },
          "metadata": {},
          "execution_count": 115
        }
      ]
    },
    {
      "cell_type": "markdown",
      "metadata": {
        "id": "Dq6eIxFz3hd5"
      },
      "source": [
        "#### Saving file to desk so that it can be used by weka for further work"
      ]
    },
    {
      "cell_type": "code",
      "metadata": {
        "id": "X5vGUnckf-MX"
      },
      "source": [
        "df_test.to_csv('cleaned_checkup_edu_smoke.csv',index=False)"
      ],
      "execution_count": null,
      "outputs": []
    },
    {
      "cell_type": "code",
      "metadata": {
        "id": "7w__PFj7gPnL"
      },
      "source": [
        ""
      ],
      "execution_count": null,
      "outputs": []
    }
  ]
}